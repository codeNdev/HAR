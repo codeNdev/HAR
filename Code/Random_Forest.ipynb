{
 "cells": [
  {
   "cell_type": "code",
   "execution_count": null,
   "id": "3429c124",
   "metadata": {},
   "outputs": [],
   "source": [
    "\n",
    "# Train the Random Forest classifier\n",
    "classifier = RandomForestClassifier(random_state=42)\n",
    "classifier.fit(X_train, y_train)\n",
    "\n",
    "# Make predictions on the training data\n",
    "y_train_pred = classifier.predict(X_train)\n",
    "\n",
    "# Evaluate the model on the training data\n",
    "train_accuracy = accuracy_score(y_train, y_train_pred)\n",
    "print(f\"Training Accuracy: {train_accuracy:.2f}\")\n",
    "print(\"Classification Report (Training Data):\")\n",
    "print(classification_report(y_train, y_train_pred))\n",
    "print(\"Confusion Matrix (Training Data):\")\n",
    "print(confusion_matrix(y_train, y_train_pred))\n",
    "\n",
    "# Make predictions on the test data\n",
    "y_test_pred = classifier.predict(X_test)\n",
    "\n",
    "# Evaluate the model on the test data\n",
    "test_accuracy = accuracy_score(y_test, y_test_pred)\n",
    "print(f\"\\nTest Accuracy: {test_accuracy:.2f}\")\n",
    "print(\"Classification Report (Test Data):\")\n",
    "print(classification_report(y_test, y_test_pred))\n",
    "print(\"Confusion Matrix (Test Data):\")\n",
    "print(confusion_matrix(y_test, y_test_pred))"
   ]
  },
  {
   "cell_type": "code",
   "execution_count": 16,
   "id": "c5d7f849",
   "metadata": {},
   "outputs": [],
   "source": [
    "import pandas as pd\n",
    "from sklearn.model_selection import train_test_split\n",
    "from sklearn.preprocessing import StandardScaler, LabelEncoder\n",
    "from sklearn.model_selection import train_test_split, GridSearchCV\n",
    "from sklearn.ensemble import RandomForestClassifier\n",
    "from sklearn.metrics import accuracy_score, classification_report, confusion_matrix"
   ]
  },
  {
   "cell_type": "code",
   "execution_count": 17,
   "id": "d0eddd2f",
   "metadata": {},
   "outputs": [],
   "source": [
    "# Load the preprocessed data\n",
    "X_train = pd.read_csv(\"../Data/X_train_cleaned.csv\")\n",
    "y_train = pd.read_csv(\"../Data/y_train_cleaned.csv\")['activity']\n",
    "# Load the preprocessed test data\n",
    "X_test = pd.read_csv(\"../Data/X_test_cleaned.csv\")\n",
    "y_test = pd.read_csv(\"../Data/y_test_cleaned.csv\")['activity']"
   ]
  },
  {
   "cell_type": "code",
   "execution_count": 3,
   "id": "687162bf",
   "metadata": {},
   "outputs": [
    {
     "data": {
      "text/plain": [
       "RandomForestClassifier(random_state=42)"
      ]
     },
     "execution_count": 3,
     "metadata": {},
     "output_type": "execute_result"
    }
   ],
   "source": [
    "# Train the Random Forest classifier\n",
    "classifier = RandomForestClassifier(random_state=42)\n",
    "classifier.fit(X_train, y_train)\n"
   ]
  },
  {
   "cell_type": "code",
   "execution_count": 4,
   "id": "3c364eee",
   "metadata": {},
   "outputs": [],
   "source": [
    "# Make predictions on the training data\n",
    "y_train_pred = classifier.predict(X_train)"
   ]
  },
  {
   "cell_type": "code",
   "execution_count": 5,
   "id": "fe1fdfcb",
   "metadata": {},
   "outputs": [
    {
     "name": "stdout",
     "output_type": "stream",
     "text": [
      "Training Accuracy: 1.00\n"
     ]
    }
   ],
   "source": [
    "# Evaluate the model on the training data\n",
    "train_accuracy = accuracy_score(y_train, y_train_pred)\n",
    "print(f\"Training Accuracy: {train_accuracy:.2f}\")"
   ]
  },
  {
   "cell_type": "code",
   "execution_count": 6,
   "id": "9f667162",
   "metadata": {},
   "outputs": [
    {
     "name": "stdout",
     "output_type": "stream",
     "text": [
      "Classification Report (Training Data):\n",
      "              precision    recall  f1-score   support\n",
      "\n",
      "           0       1.00      1.00      1.00      4053\n",
      "           1       1.00      1.00      1.00      9060\n",
      "           2       1.00      1.00      1.00     11296\n",
      "           3       1.00      1.00      1.00      4782\n",
      "           4       1.00      1.00      1.00      7469\n",
      "           5       1.00      1.00      1.00      8996\n",
      "\n",
      "    accuracy                           1.00     45656\n",
      "   macro avg       1.00      1.00      1.00     45656\n",
      "weighted avg       1.00      1.00      1.00     45656\n",
      "\n"
     ]
    }
   ],
   "source": [
    "print(\"Classification Report (Training Data):\")\n",
    "print(classification_report(y_train, y_train_pred))"
   ]
  },
  {
   "cell_type": "code",
   "execution_count": 7,
   "id": "e28f4bf2",
   "metadata": {},
   "outputs": [
    {
     "name": "stdout",
     "output_type": "stream",
     "text": [
      "Confusion Matrix (Training Data):\n",
      "[[ 4053     0     0     0     0     0]\n",
      " [    0  9060     0     0     0     0]\n",
      " [    0     0 11296     0     0     0]\n",
      " [    0     0     0  4782     0     0]\n",
      " [    0     0     0     0  7469     0]\n",
      " [    0     0     0     0     0  8996]]\n"
     ]
    }
   ],
   "source": [
    "print(\"Confusion Matrix (Training Data):\")\n",
    "print(confusion_matrix(y_train, y_train_pred))"
   ]
  },
  {
   "cell_type": "code",
   "execution_count": 8,
   "id": "41d1fef5",
   "metadata": {},
   "outputs": [],
   "source": [
    "# Make predictions on the test data\n",
    "y_test_pred = classifier.predict(X_test)"
   ]
  },
  {
   "cell_type": "code",
   "execution_count": 9,
   "id": "bbce15de",
   "metadata": {},
   "outputs": [
    {
     "name": "stdout",
     "output_type": "stream",
     "text": [
      "\n",
      "Test Accuracy: 0.91\n"
     ]
    }
   ],
   "source": [
    "# Evaluate the model on the test data\n",
    "test_accuracy = accuracy_score(y_test, y_test_pred)\n",
    "print(f\"\\nTest Accuracy: {test_accuracy:.2f}\")"
   ]
  },
  {
   "cell_type": "code",
   "execution_count": 10,
   "id": "5787263e",
   "metadata": {},
   "outputs": [
    {
     "name": "stdout",
     "output_type": "stream",
     "text": [
      "Classification Report (Test Data):\n",
      "              precision    recall  f1-score   support\n",
      "\n",
      "           0       0.85      0.66      0.74       945\n",
      "           1       0.90      0.91      0.90      2266\n",
      "           2       1.00      1.00      1.00      2821\n",
      "           3       0.99      0.97      0.98      1216\n",
      "           4       0.86      0.84      0.85      1887\n",
      "           5       0.82      0.91      0.86      2279\n",
      "\n",
      "    accuracy                           0.91     11414\n",
      "   macro avg       0.90      0.88      0.89     11414\n",
      "weighted avg       0.91      0.91      0.91     11414\n",
      "\n"
     ]
    }
   ],
   "source": [
    "print(\"Classification Report (Test Data):\")\n",
    "print(classification_report(y_test, y_test_pred))"
   ]
  },
  {
   "cell_type": "code",
   "execution_count": 11,
   "id": "e48a5caf",
   "metadata": {},
   "outputs": [
    {
     "name": "stdout",
     "output_type": "stream",
     "text": [
      "Confusion Matrix (Test Data):\n",
      "[[ 625   62    1    2  105  150]\n",
      " [  35 2067    0    3   58  103]\n",
      " [   1    0 2819    1    0    0]\n",
      " [   4    4    2 1174    9   23]\n",
      " [  44   79    1    3 1588  172]\n",
      " [  29   95    0    2   78 2075]]\n"
     ]
    }
   ],
   "source": [
    "print(\"Confusion Matrix (Test Data):\")\n",
    "print(confusion_matrix(y_test, y_test_pred))"
   ]
  },
  {
   "cell_type": "markdown",
   "id": "a29991a5",
   "metadata": {},
   "source": [
    "# Hyper-Parameter Tuned Model"
   ]
  },
  {
   "cell_type": "code",
   "execution_count": 18,
   "id": "6dc69f65",
   "metadata": {},
   "outputs": [],
   "source": [
    "param_grid = {\n",
    "    'n_estimators': [50, 100, 200],\n",
    "    'max_depth': [None, 10, 20],\n",
    "    'min_samples_split': [2, 5, 10],\n",
    "    'min_samples_leaf': [1, 2, 4]\n",
    "}\n"
   ]
  },
  {
   "cell_type": "code",
   "execution_count": 19,
   "id": "49f3f837",
   "metadata": {},
   "outputs": [],
   "source": [
    "# Create the Random Forest classifier\n",
    "classifier = RandomForestClassifier(random_state=42)\n"
   ]
  },
  {
   "cell_type": "code",
   "execution_count": 20,
   "id": "7c681a69",
   "metadata": {},
   "outputs": [
    {
     "data": {
      "text/plain": [
       "GridSearchCV(cv=5, estimator=RandomForestClassifier(random_state=42), n_jobs=-1,\n",
       "             param_grid={'max_depth': [None, 10, 20],\n",
       "                         'min_samples_leaf': [1, 2, 4],\n",
       "                         'min_samples_split': [2, 5, 10],\n",
       "                         'n_estimators': [50, 100, 200]},\n",
       "             scoring='accuracy')"
      ]
     },
     "execution_count": 20,
     "metadata": {},
     "output_type": "execute_result"
    }
   ],
   "source": [
    "# Perform grid search with cross-validation\n",
    "grid_search = GridSearchCV(classifier, param_grid, cv=5, scoring='accuracy', n_jobs=-1)\n",
    "grid_search.fit(X_train, y_train)"
   ]
  },
  {
   "cell_type": "code",
   "execution_count": 21,
   "id": "d1121fc3",
   "metadata": {},
   "outputs": [
    {
     "name": "stdout",
     "output_type": "stream",
     "text": [
      "Best Hyperparameters: {'max_depth': None, 'min_samples_leaf': 1, 'min_samples_split': 2, 'n_estimators': 200}\n"
     ]
    }
   ],
   "source": [
    "# Get the best parameters\n",
    "best_params = grid_search.best_params_\n",
    "print(\"Best Hyperparameters:\", best_params)"
   ]
  },
  {
   "cell_type": "code",
   "execution_count": 22,
   "id": "6ccecab5",
   "metadata": {},
   "outputs": [
    {
     "data": {
      "text/plain": [
       "RandomForestClassifier(n_estimators=200, random_state=42)"
      ]
     },
     "execution_count": 22,
     "metadata": {},
     "output_type": "execute_result"
    }
   ],
   "source": [
    "# Train the Random Forest classifier with the best hyperparameters\n",
    "best_classifier = RandomForestClassifier(random_state=42, **best_params)\n",
    "best_classifier.fit(X_train, y_train)"
   ]
  },
  {
   "cell_type": "code",
   "execution_count": 23,
   "id": "1f84c4ce",
   "metadata": {},
   "outputs": [],
   "source": [
    "# Make predictions on the test data\n",
    "y_test_pred = best_classifier.predict(X_test)\n"
   ]
  },
  {
   "cell_type": "code",
   "execution_count": 24,
   "id": "5355b55d",
   "metadata": {},
   "outputs": [
    {
     "name": "stdout",
     "output_type": "stream",
     "text": [
      "\n",
      "Test Accuracy after Hyperparameter Tuning: 0.91\n"
     ]
    }
   ],
   "source": [
    "# Evaluate the model on the test data\n",
    "test_accuracy = accuracy_score(y_test, y_test_pred)\n",
    "print(f\"\\nTest Accuracy after Hyperparameter Tuning: {test_accuracy:.2f}\")"
   ]
  },
  {
   "cell_type": "code",
   "execution_count": 25,
   "id": "79bb215b",
   "metadata": {},
   "outputs": [
    {
     "name": "stdout",
     "output_type": "stream",
     "text": [
      "Classification Report (Test Data):\n",
      "              precision    recall  f1-score   support\n",
      "\n",
      "           0       0.85      0.66      0.74       945\n",
      "           1       0.90      0.91      0.91      2266\n",
      "           2       1.00      1.00      1.00      2821\n",
      "           3       0.99      0.97      0.98      1216\n",
      "           4       0.86      0.84      0.85      1887\n",
      "           5       0.82      0.91      0.87      2279\n",
      "\n",
      "    accuracy                           0.91     11414\n",
      "   macro avg       0.90      0.88      0.89     11414\n",
      "weighted avg       0.91      0.91      0.91     11414\n",
      "\n"
     ]
    }
   ],
   "source": [
    "print(\"Classification Report (Test Data):\")\n",
    "print(classification_report(y_test, y_test_pred))"
   ]
  },
  {
   "cell_type": "code",
   "execution_count": 26,
   "id": "43068297",
   "metadata": {},
   "outputs": [
    {
     "name": "stdout",
     "output_type": "stream",
     "text": [
      "Confusion Matrix (Test Data):\n",
      "[[ 628   62    0    2  108  145]\n",
      " [  37 2067    0    3   54  105]\n",
      " [   1    0 2820    0    0    0]\n",
      " [   4    4    2 1175   11   20]\n",
      " [  43   77    0    4 1587  176]\n",
      " [  28   90    0    2   75 2084]]\n"
     ]
    }
   ],
   "source": [
    "print(\"Confusion Matrix (Test Data):\")\n",
    "print(confusion_matrix(y_test, y_test_pred))"
   ]
  }
 ],
 "metadata": {
  "kernelspec": {
   "display_name": "Python 3 (ipykernel)",
   "language": "python",
   "name": "python3"
  },
  "language_info": {
   "codemirror_mode": {
    "name": "ipython",
    "version": 3
   },
   "file_extension": ".py",
   "mimetype": "text/x-python",
   "name": "python",
   "nbconvert_exporter": "python",
   "pygments_lexer": "ipython3",
   "version": "3.9.13"
  }
 },
 "nbformat": 4,
 "nbformat_minor": 5
}
